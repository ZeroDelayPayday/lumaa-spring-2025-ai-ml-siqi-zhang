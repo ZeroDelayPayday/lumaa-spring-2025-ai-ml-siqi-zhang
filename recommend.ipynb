{
 "cells": [
  {
   "cell_type": "markdown",
   "metadata": {},
   "source": [
    "# 1 Prepare Environment"
   ]
  },
  {
   "cell_type": "markdown",
   "metadata": {},
   "source": [
    "```pip install pandas numpy scikit-learn sentence_transformers torch```"
   ]
  },
  {
   "cell_type": "code",
   "execution_count": 1,
   "metadata": {},
   "outputs": [
    {
     "name": "stderr",
     "output_type": "stream",
     "text": [
      "c:\\Users\\zaczh\\AppData\\Local\\Programs\\Python\\Python39\\lib\\site-packages\\tqdm\\auto.py:21: TqdmWarning: IProgress not found. Please update jupyter and ipywidgets. See https://ipywidgets.readthedocs.io/en/stable/user_install.html\n",
      "  from .autonotebook import tqdm as notebook_tqdm\n"
     ]
    }
   ],
   "source": [
    "import pandas as pd\n",
    "from sklearn.feature_extraction.text import TfidfVectorizer\n",
    "from sklearn.metrics.pairwise import cosine_similarity\n",
    "from sentence_transformers import SentenceTransformer, util"
   ]
  },
  {
   "cell_type": "markdown",
   "metadata": {},
   "source": [
    "# 2 Load Dataset"
   ]
  },
  {
   "cell_type": "markdown",
   "metadata": {},
   "source": [
    "## 2.1 Introduce Dataset"
   ]
  },
  {
   "cell_type": "markdown",
   "metadata": {},
   "source": [
    "The movies dataset is a comprehensive collection of information about 4,803 movies. It provides a wide range of details about each movie, including budget, genres, production companies, release date, revenue, runtime, language, popularity, and more.\n",
    "\n",
    "https://www.kaggle.com/datasets/utkarshx27/movies-dataset?resource=download"
   ]
  },
  {
   "cell_type": "code",
   "execution_count": 2,
   "metadata": {},
   "outputs": [
    {
     "data": {
      "text/html": [
       "<div>\n",
       "<style scoped>\n",
       "    .dataframe tbody tr th:only-of-type {\n",
       "        vertical-align: middle;\n",
       "    }\n",
       "\n",
       "    .dataframe tbody tr th {\n",
       "        vertical-align: top;\n",
       "    }\n",
       "\n",
       "    .dataframe thead th {\n",
       "        text-align: right;\n",
       "    }\n",
       "</style>\n",
       "<table border=\"1\" class=\"dataframe\">\n",
       "  <thead>\n",
       "    <tr style=\"text-align: right;\">\n",
       "      <th></th>\n",
       "      <th>original_title</th>\n",
       "      <th>genres</th>\n",
       "      <th>keywords</th>\n",
       "      <th>overview</th>\n",
       "    </tr>\n",
       "  </thead>\n",
       "  <tbody>\n",
       "    <tr>\n",
       "      <th>0</th>\n",
       "      <td>Avatar</td>\n",
       "      <td>Action Adventure Fantasy Science Fiction</td>\n",
       "      <td>culture clash future space war space colony so...</td>\n",
       "      <td>In the 22nd century, a paraplegic Marine is di...</td>\n",
       "    </tr>\n",
       "    <tr>\n",
       "      <th>1</th>\n",
       "      <td>Pirates of the Caribbean: At World's End</td>\n",
       "      <td>Adventure Fantasy Action</td>\n",
       "      <td>ocean drug abuse exotic island east india trad...</td>\n",
       "      <td>Captain Barbossa, long believed to be dead, ha...</td>\n",
       "    </tr>\n",
       "    <tr>\n",
       "      <th>2</th>\n",
       "      <td>Spectre</td>\n",
       "      <td>Action Adventure Crime</td>\n",
       "      <td>spy based on novel secret agent sequel mi6</td>\n",
       "      <td>A cryptic message from Bond’s past sends him o...</td>\n",
       "    </tr>\n",
       "    <tr>\n",
       "      <th>3</th>\n",
       "      <td>The Dark Knight Rises</td>\n",
       "      <td>Action Crime Drama Thriller</td>\n",
       "      <td>dc comics crime fighter terrorist secret ident...</td>\n",
       "      <td>Following the death of District Attorney Harve...</td>\n",
       "    </tr>\n",
       "    <tr>\n",
       "      <th>4</th>\n",
       "      <td>John Carter</td>\n",
       "      <td>Action Adventure Science Fiction</td>\n",
       "      <td>based on novel mars medallion space travel pri...</td>\n",
       "      <td>John Carter is a war-weary, former military ca...</td>\n",
       "    </tr>\n",
       "    <tr>\n",
       "      <th>5</th>\n",
       "      <td>Spider-Man 3</td>\n",
       "      <td>Fantasy Action Adventure</td>\n",
       "      <td>dual identity amnesia sandstorm love of one's ...</td>\n",
       "      <td>The seemingly invincible Spider-Man goes up ag...</td>\n",
       "    </tr>\n",
       "    <tr>\n",
       "      <th>6</th>\n",
       "      <td>Tangled</td>\n",
       "      <td>Animation Family</td>\n",
       "      <td>hostage magic horse fairy tale musical</td>\n",
       "      <td>When the kingdom's most wanted-and most charmi...</td>\n",
       "    </tr>\n",
       "    <tr>\n",
       "      <th>7</th>\n",
       "      <td>Avengers: Age of Ultron</td>\n",
       "      <td>Action Adventure Science Fiction</td>\n",
       "      <td>marvel comic sequel superhero based on comic b...</td>\n",
       "      <td>When Tony Stark tries to jumpstart a dormant p...</td>\n",
       "    </tr>\n",
       "    <tr>\n",
       "      <th>8</th>\n",
       "      <td>Harry Potter and the Half-Blood Prince</td>\n",
       "      <td>Adventure Fantasy Family</td>\n",
       "      <td>witch magic broom school of witchcraft wizardry</td>\n",
       "      <td>As Harry begins his sixth year at Hogwarts, he...</td>\n",
       "    </tr>\n",
       "    <tr>\n",
       "      <th>9</th>\n",
       "      <td>Batman v Superman: Dawn of Justice</td>\n",
       "      <td>Action Adventure Fantasy</td>\n",
       "      <td>dc comics vigilante superhero based on comic b...</td>\n",
       "      <td>Fearing the actions of a god-like Super Hero l...</td>\n",
       "    </tr>\n",
       "  </tbody>\n",
       "</table>\n",
       "</div>"
      ],
      "text/plain": [
       "                             original_title  \\\n",
       "0                                    Avatar   \n",
       "1  Pirates of the Caribbean: At World's End   \n",
       "2                                   Spectre   \n",
       "3                     The Dark Knight Rises   \n",
       "4                               John Carter   \n",
       "5                              Spider-Man 3   \n",
       "6                                   Tangled   \n",
       "7                   Avengers: Age of Ultron   \n",
       "8    Harry Potter and the Half-Blood Prince   \n",
       "9        Batman v Superman: Dawn of Justice   \n",
       "\n",
       "                                     genres  \\\n",
       "0  Action Adventure Fantasy Science Fiction   \n",
       "1                  Adventure Fantasy Action   \n",
       "2                    Action Adventure Crime   \n",
       "3               Action Crime Drama Thriller   \n",
       "4          Action Adventure Science Fiction   \n",
       "5                  Fantasy Action Adventure   \n",
       "6                          Animation Family   \n",
       "7          Action Adventure Science Fiction   \n",
       "8                  Adventure Fantasy Family   \n",
       "9                  Action Adventure Fantasy   \n",
       "\n",
       "                                            keywords  \\\n",
       "0  culture clash future space war space colony so...   \n",
       "1  ocean drug abuse exotic island east india trad...   \n",
       "2         spy based on novel secret agent sequel mi6   \n",
       "3  dc comics crime fighter terrorist secret ident...   \n",
       "4  based on novel mars medallion space travel pri...   \n",
       "5  dual identity amnesia sandstorm love of one's ...   \n",
       "6             hostage magic horse fairy tale musical   \n",
       "7  marvel comic sequel superhero based on comic b...   \n",
       "8    witch magic broom school of witchcraft wizardry   \n",
       "9  dc comics vigilante superhero based on comic b...   \n",
       "\n",
       "                                            overview  \n",
       "0  In the 22nd century, a paraplegic Marine is di...  \n",
       "1  Captain Barbossa, long believed to be dead, ha...  \n",
       "2  A cryptic message from Bond’s past sends him o...  \n",
       "3  Following the death of District Attorney Harve...  \n",
       "4  John Carter is a war-weary, former military ca...  \n",
       "5  The seemingly invincible Spider-Man goes up ag...  \n",
       "6  When the kingdom's most wanted-and most charmi...  \n",
       "7  When Tony Stark tries to jumpstart a dormant p...  \n",
       "8  As Harry begins his sixth year at Hogwarts, he...  \n",
       "9  Fearing the actions of a god-like Super Hero l...  "
      ]
     },
     "execution_count": 2,
     "metadata": {},
     "output_type": "execute_result"
    }
   ],
   "source": [
    "# Load dataset\n",
    "df = pd.read_csv(\"movie_dataset.csv\")\n",
    "df = df[['original_title', 'genres', 'keywords', 'overview']]\n",
    "df.head(10)"
   ]
  },
  {
   "cell_type": "markdown",
   "metadata": {},
   "source": [
    "## 2.2 Preprocess Data\n",
    "\n",
    "Remove all rows with NaN values"
   ]
  },
  {
   "cell_type": "code",
   "execution_count": 3,
   "metadata": {},
   "outputs": [
    {
     "data": {
      "text/plain": [
       "original_title      0\n",
       "genres             28\n",
       "keywords          412\n",
       "overview            3\n",
       "dtype: int64"
      ]
     },
     "execution_count": 3,
     "metadata": {},
     "output_type": "execute_result"
    }
   ],
   "source": [
    "df.isna().sum()"
   ]
  },
  {
   "cell_type": "code",
   "execution_count": 4,
   "metadata": {},
   "outputs": [],
   "source": [
    "df.dropna(inplace=True)"
   ]
  },
  {
   "cell_type": "markdown",
   "metadata": {},
   "source": [
    "# 3 TF-IDF Approach\n",
    "\n",
    "## 3.1 Build Vectors"
   ]
  },
  {
   "cell_type": "code",
   "execution_count": 5,
   "metadata": {},
   "outputs": [],
   "source": [
    "# Initialize vectorizers\n",
    "vectorizer_keywords = TfidfVectorizer(stop_words='english')\n",
    "vectorizer_overview = TfidfVectorizer(stop_words='english')\n",
    "vectorizer_genres = TfidfVectorizer(stop_words='english')\n",
    "\n",
    "# Fit and transform text data\n",
    "tfidf_keywords = vectorizer_keywords.fit_transform(df['keywords'])\n",
    "tfidf_overview = vectorizer_overview.fit_transform(df['overview'])\n",
    "tfidf_genres = vectorizer_genres.fit_transform(df['genres'])\n",
    "\n",
    "user_input = \"I love thrilling action movies set in space, with a comedic twist.\"\n",
    "\n",
    "# Transform user query for both vectors\n",
    "user_vec_keywords = vectorizer_keywords.transform([user_input])\n",
    "user_vec_overview = vectorizer_overview.transform([user_input])\n",
    "user_vec_genres = vectorizer_genres.transform([user_input])"
   ]
  },
  {
   "cell_type": "markdown",
   "metadata": {},
   "source": [
    "## 3.2 Calculate Similarity"
   ]
  },
  {
   "cell_type": "code",
   "execution_count": null,
   "metadata": {},
   "outputs": [],
   "source": [
    "WEIGHT_OVERVIEW = 0.3\n",
    "WEIGHT_KEYWORDS = 0.6\n",
    "WEIGHT_GENRES = 0.1\n",
    "\n",
    "# Compute cosine similarity\n",
    "similarity_keywords = cosine_similarity(user_vec_keywords, tfidf_keywords).flatten()\n",
    "similarity_overview = cosine_similarity(user_vec_overview, tfidf_overview).flatten()\n",
    "similarity_genres = cosine_similarity(user_vec_genres, tfidf_genres).flatten()\n",
    "\n",
    "# Compute final weighted similarity\n",
    "overall_similarity = (WEIGHT_KEYWORDS * similarity_keywords) + (WEIGHT_OVERVIEW * similarity_overview) + (WEIGHT_GENRES * similarity_genres)"
   ]
  },
  {
   "cell_type": "markdown",
   "metadata": {},
   "source": [
    "## 3.3 Return Top Matches"
   ]
  },
  {
   "cell_type": "code",
   "execution_count": 7,
   "metadata": {},
   "outputs": [
    {
     "data": {
      "text/html": [
       "<div>\n",
       "<style scoped>\n",
       "    .dataframe tbody tr th:only-of-type {\n",
       "        vertical-align: middle;\n",
       "    }\n",
       "\n",
       "    .dataframe tbody tr th {\n",
       "        vertical-align: top;\n",
       "    }\n",
       "\n",
       "    .dataframe thead th {\n",
       "        text-align: right;\n",
       "    }\n",
       "</style>\n",
       "<table border=\"1\" class=\"dataframe\">\n",
       "  <thead>\n",
       "    <tr style=\"text-align: right;\">\n",
       "      <th></th>\n",
       "      <th>original_title</th>\n",
       "      <th>genres</th>\n",
       "      <th>keywords</th>\n",
       "      <th>overview</th>\n",
       "      <th>score</th>\n",
       "    </tr>\n",
       "  </thead>\n",
       "  <tbody>\n",
       "    <tr>\n",
       "      <th>761</th>\n",
       "      <td>Righteous Kill</td>\n",
       "      <td>Action Crime Drama Thriller</td>\n",
       "      <td>revenge murder plot twist dirty cop</td>\n",
       "      <td>Two veteran New York City detectives work to i...</td>\n",
       "      <td>0.204876</td>\n",
       "    </tr>\n",
       "    <tr>\n",
       "      <th>1937</th>\n",
       "      <td>King's Ransom</td>\n",
       "      <td>Comedy Crime</td>\n",
       "      <td>caper action</td>\n",
       "      <td>Hoping to foil his own gold-digging wife's pla...</td>\n",
       "      <td>0.200791</td>\n",
       "    </tr>\n",
       "    <tr>\n",
       "      <th>239</th>\n",
       "      <td>Gravity</td>\n",
       "      <td>Science Fiction Thriller Drama</td>\n",
       "      <td>space mission loss space astronaut trapped in ...</td>\n",
       "      <td>Dr. Ryan Stone, a brilliant medical engineer o...</td>\n",
       "      <td>0.178820</td>\n",
       "    </tr>\n",
       "    <tr>\n",
       "      <th>658</th>\n",
       "      <td>Death Race</td>\n",
       "      <td>Action Thriller Science Fiction</td>\n",
       "      <td>car race dystopia matter of life and death pri...</td>\n",
       "      <td>Terminal Island, New York: 2020. Overcrowding ...</td>\n",
       "      <td>0.175149</td>\n",
       "    </tr>\n",
       "    <tr>\n",
       "      <th>1951</th>\n",
       "      <td>Белка и Стрелка. Звёздные собаки</td>\n",
       "      <td>Family Animation</td>\n",
       "      <td>russia space mission space outer space dog</td>\n",
       "      <td>Belka, the amazing flying dog is unexpectedly ...</td>\n",
       "      <td>0.168931</td>\n",
       "    </tr>\n",
       "  </tbody>\n",
       "</table>\n",
       "</div>"
      ],
      "text/plain": [
       "                        original_title                           genres  \\\n",
       "761                     Righteous Kill      Action Crime Drama Thriller   \n",
       "1937                     King's Ransom                     Comedy Crime   \n",
       "239                            Gravity   Science Fiction Thriller Drama   \n",
       "658                         Death Race  Action Thriller Science Fiction   \n",
       "1951  Белка и Стрелка. Звёздные собаки                 Family Animation   \n",
       "\n",
       "                                               keywords  \\\n",
       "761                 revenge murder plot twist dirty cop   \n",
       "1937                                       caper action   \n",
       "239   space mission loss space astronaut trapped in ...   \n",
       "658   car race dystopia matter of life and death pri...   \n",
       "1951         russia space mission space outer space dog   \n",
       "\n",
       "                                               overview     score  \n",
       "761   Two veteran New York City detectives work to i...  0.204876  \n",
       "1937  Hoping to foil his own gold-digging wife's pla...  0.200791  \n",
       "239   Dr. Ryan Stone, a brilliant medical engineer o...  0.178820  \n",
       "658   Terminal Island, New York: 2020. Overcrowding ...  0.175149  \n",
       "1951  Belka, the amazing flying dog is unexpectedly ...  0.168931  "
      ]
     },
     "execution_count": 7,
     "metadata": {},
     "output_type": "execute_result"
    }
   ],
   "source": [
    "TOP_N = 5\n",
    "\n",
    "top_indices = overall_similarity.argsort()[-TOP_N:][::-1]\n",
    "\n",
    "recommendations = df.iloc[top_indices].assign(score=overall_similarity[top_indices])\n",
    "\n",
    "recommendations"
   ]
  },
  {
   "cell_type": "code",
   "execution_count": 8,
   "metadata": {},
   "outputs": [
    {
     "name": "stdout",
     "output_type": "stream",
     "text": [
      "Title - Righteous Kill\n",
      "Genres - Action Crime Drama Thriller\n",
      "Keywords - revenge murder plot twist dirty cop\n",
      "Overview - Two veteran New York City detectives work to identify the possible connection between a recent murder and a case they believe they solved years ago; is there a serial killer on the loose, and did they perhaps put the wrong person behind bars?\n",
      "\n",
      "Title - King's Ransom\n",
      "Genres - Comedy Crime\n",
      "Keywords - caper action\n",
      "Overview - Hoping to foil his own gold-digging wife's plan, a loathsome businessman arranges his own kidnapping, only to realize that there are plenty of other people interested in his wealth as well.\n",
      "\n",
      "Title - Gravity\n",
      "Genres - Science Fiction Thriller Drama\n",
      "Keywords - space mission loss space astronaut trapped in space\n",
      "Overview - Dr. Ryan Stone, a brilliant medical engineer on her first Shuttle mission, with veteran astronaut Matt Kowalsky in command of his last flight before retiring. But on a seemingly routine spacewalk, disaster strikes. The Shuttle is destroyed, leaving Stone and Kowalsky completely alone-tethered to nothing but each other and spiraling out into the blackness of space. The deafening silence tells them they have lost any link to Earth and any chance for rescue. As fear turns to panic, every gulp of air eats away at what little oxygen is left. But the only way home may be to go further out into the terrifying expanse of space.\n",
      "\n",
      "Title - Death Race\n",
      "Genres - Action Thriller Science Fiction\n",
      "Keywords - car race dystopia matter of life and death prison guard car set on fire\n",
      "Overview - Terminal Island, New York: 2020. Overcrowding in the US penal system has reached a breaking point. Prisons have been turned over to a monolithic Weyland Corporation, which sees jails full of thugs as an opportunity for televised sport. Adrenalized inmates, a global audience hungry for violence and a spectacular, enclosed arena come together to form the 'Death Race', the biggest, most brutal event.\n",
      "\n",
      "Title - Белка и Стрелка. Звёздные собаки\n",
      "Genres - Family Animation\n",
      "Keywords - russia space mission space outer space dog\n",
      "Overview - Belka, the amazing flying dog is unexpectedly hurdled into the streets of Moscow when the rocket she is in malfunctions during one of her circus routines. Fortunately the crash leads her to meet a streetwise dog named Strelka and her irredeemable rat friend Venya. Together with other amusing friends found along the way, the three find themselves in a space program-training center where they get sent away in a rocket, leaving planet Earth...\n",
      "\n"
     ]
    }
   ],
   "source": [
    "for i in range(len(recommendations)):\n",
    "    for j in range(4):\n",
    "        print([\"Title\", \"Genres\", \"Keywords\", \"Overview\"][j], \"-\", recommendations.iloc[i, j])\n",
    "    print()"
   ]
  },
  {
   "cell_type": "markdown",
   "metadata": {},
   "source": [
    "# 4 SBERT Approach"
   ]
  },
  {
   "cell_type": "markdown",
   "metadata": {},
   "source": [
    "## 4.2 Build Vectors"
   ]
  },
  {
   "cell_type": "code",
   "execution_count": null,
   "metadata": {},
   "outputs": [],
   "source": [
    "# Load pre-trained SBERT model\n",
    "sbert_model = SentenceTransformer('all-MiniLM-L6-v2', device='cpu')\n",
    "\n",
    "# Compute embeddings for dataset\n",
    "embeddings_keywords = sbert_model.encode(df['keywords'].tolist(), convert_to_tensor=True).cpu()\n",
    "embeddings_overview = sbert_model.encode(df['overview'].tolist(), convert_to_tensor=True).cpu()\n",
    "embeddings_genres = sbert_model.encode(df['genres'].tolist(), convert_to_tensor=True).cpu()\n",
    "\n",
    "user_input = \"I love thrilling action movies set in space, with a comedic twist.\"\n",
    "\n",
    "# Compute user input embeddings\n",
    "user_embedding_keywords = sbert_model.encode(user_input, convert_to_tensor=True).cpu()\n",
    "user_embedding_overview = sbert_model.encode(user_input, convert_to_tensor=True).cpu()\n",
    "user_embedding_genres = sbert_model.encode(user_input, convert_to_tensor=True).cpu()"
   ]
  },
  {
   "cell_type": "markdown",
   "metadata": {},
   "source": [
    "## 4.2 Calculate Similarity"
   ]
  },
  {
   "cell_type": "code",
   "execution_count": 10,
   "metadata": {},
   "outputs": [],
   "source": [
    "# Define weight parameters\n",
    "WEIGHT_OVERVIEW = 0.3\n",
    "WEIGHT_KEYWORDS = 0.6\n",
    "WEIGHT_GENRES = 0.1\n",
    "\n",
    "# Compute cosine similarity\n",
    "similarity_keywords = util.cos_sim(user_embedding_keywords, embeddings_keywords).squeeze().numpy()\n",
    "similarity_overview = util.cos_sim(user_embedding_overview, embeddings_overview).squeeze().numpy()\n",
    "similarity_genres = util.cos_sim(user_embedding_genres, embeddings_genres).squeeze().numpy()\n",
    "\n",
    "# Compute final weighted similarity\n",
    "overall_similarity = (WEIGHT_KEYWORDS * similarity_keywords) + (WEIGHT_OVERVIEW * similarity_overview) + (WEIGHT_GENRES * similarity_genres)"
   ]
  },
  {
   "cell_type": "markdown",
   "metadata": {},
   "source": [
    "## 4.3 Return Top Matches"
   ]
  },
  {
   "cell_type": "code",
   "execution_count": 11,
   "metadata": {},
   "outputs": [
    {
     "data": {
      "text/html": [
       "<div>\n",
       "<style scoped>\n",
       "    .dataframe tbody tr th:only-of-type {\n",
       "        vertical-align: middle;\n",
       "    }\n",
       "\n",
       "    .dataframe tbody tr th {\n",
       "        vertical-align: top;\n",
       "    }\n",
       "\n",
       "    .dataframe thead th {\n",
       "        text-align: right;\n",
       "    }\n",
       "</style>\n",
       "<table border=\"1\" class=\"dataframe\">\n",
       "  <thead>\n",
       "    <tr style=\"text-align: right;\">\n",
       "      <th></th>\n",
       "      <th>original_title</th>\n",
       "      <th>genres</th>\n",
       "      <th>keywords</th>\n",
       "      <th>overview</th>\n",
       "      <th>score</th>\n",
       "    </tr>\n",
       "  </thead>\n",
       "  <tbody>\n",
       "    <tr>\n",
       "      <th>1053</th>\n",
       "      <td>Galaxy Quest</td>\n",
       "      <td>Comedy Family Science Fiction</td>\n",
       "      <td>space battle spaceship spoof fictional tv show</td>\n",
       "      <td>The stars of a 1970s sci-fi show - now scrapin...</td>\n",
       "      <td>0.487216</td>\n",
       "    </tr>\n",
       "    <tr>\n",
       "      <th>1086</th>\n",
       "      <td>Aliens in the Attic</td>\n",
       "      <td>Adventure Comedy Family Fantasy Science Fiction</td>\n",
       "      <td>alien comedy duringcreditsstinger beforecredit...</td>\n",
       "      <td>It's summer vacation, but the Pearson family k...</td>\n",
       "      <td>0.479263</td>\n",
       "    </tr>\n",
       "    <tr>\n",
       "      <th>1650</th>\n",
       "      <td>Wing Commander</td>\n",
       "      <td>Action Science Fiction</td>\n",
       "      <td>fight pilot outer space based on video game sp...</td>\n",
       "      <td>The Hollywood version of the popular video gam...</td>\n",
       "      <td>0.458202</td>\n",
       "    </tr>\n",
       "    <tr>\n",
       "      <th>3184</th>\n",
       "      <td>The Ice Pirates</td>\n",
       "      <td>Action Science Fiction Comedy</td>\n",
       "      <td>rebel space war water sci-fi comedy</td>\n",
       "      <td>The time is the distant future, where by far t...</td>\n",
       "      <td>0.439505</td>\n",
       "    </tr>\n",
       "    <tr>\n",
       "      <th>3730</th>\n",
       "      <td>Cargo</td>\n",
       "      <td>Thriller Mystery Science Fiction</td>\n",
       "      <td>space colony space travel simulated reality  s...</td>\n",
       "      <td>The story of CARGO takes place on rusty space-...</td>\n",
       "      <td>0.430614</td>\n",
       "    </tr>\n",
       "  </tbody>\n",
       "</table>\n",
       "</div>"
      ],
      "text/plain": [
       "           original_title                                           genres  \\\n",
       "1053         Galaxy Quest                    Comedy Family Science Fiction   \n",
       "1086  Aliens in the Attic  Adventure Comedy Family Fantasy Science Fiction   \n",
       "1650       Wing Commander                           Action Science Fiction   \n",
       "3184      The Ice Pirates                    Action Science Fiction Comedy   \n",
       "3730                Cargo                 Thriller Mystery Science Fiction   \n",
       "\n",
       "                                               keywords  \\\n",
       "1053     space battle spaceship spoof fictional tv show   \n",
       "1086  alien comedy duringcreditsstinger beforecredit...   \n",
       "1650  fight pilot outer space based on video game sp...   \n",
       "3184                rebel space war water sci-fi comedy   \n",
       "3730  space colony space travel simulated reality  s...   \n",
       "\n",
       "                                               overview     score  \n",
       "1053  The stars of a 1970s sci-fi show - now scrapin...  0.487216  \n",
       "1086  It's summer vacation, but the Pearson family k...  0.479263  \n",
       "1650  The Hollywood version of the popular video gam...  0.458202  \n",
       "3184  The time is the distant future, where by far t...  0.439505  \n",
       "3730  The story of CARGO takes place on rusty space-...  0.430614  "
      ]
     },
     "execution_count": 11,
     "metadata": {},
     "output_type": "execute_result"
    }
   ],
   "source": [
    "TOP_N = 5\n",
    "\n",
    "# Get top matches\n",
    "top_indices = overall_similarity.argsort()[-TOP_N:][::-1]\n",
    "\n",
    "recommendations =  df.iloc[top_indices].assign(score=overall_similarity[top_indices])\n",
    "\n",
    "recommendations"
   ]
  },
  {
   "cell_type": "code",
   "execution_count": 12,
   "metadata": {},
   "outputs": [
    {
     "name": "stdout",
     "output_type": "stream",
     "text": [
      "Title - Galaxy Quest\n",
      "Genres - Comedy Family Science Fiction\n",
      "Keywords - space battle spaceship spoof fictional tv show\n",
      "Overview - The stars of a 1970s sci-fi show - now scraping a living through re-runs and sci-fi conventions - are beamed aboard an alien spacecraft. Believing the cast's heroic on-screen dramas are historical documents of real-life adventures, the band of aliens turn to the ailing celebrities for help in their quest to overcome the oppressive regime in their solar system.\n",
      "\n",
      "Title - Aliens in the Attic\n",
      "Genres - Adventure Comedy Family Fantasy Science Fiction\n",
      "Keywords - alien comedy duringcreditsstinger beforecreditsstinger live action and animation\n",
      "Overview - It's summer vacation, but the Pearson family kids are stuck at a boring lake house with their nerdy parents. That is until feisty, little, green aliens crash-land on the roof, with plans to conquer the house AND Earth! Using only their wits, courage and video game-playing skills, the youngsters must band together to defeat the aliens and save the world - but the toughest part might be keeping the whole thing a secret from their parents! Featuring an all-star cast including Ashley Tisdale, Andy Richter, Kevin Nealon, Tim Meadows and Doris Roberts, Aliens In The Attic is the most fun you can have on this planet!\n",
      "\n",
      "Title - Wing Commander\n",
      "Genres - Action Science Fiction\n",
      "Keywords - fight pilot outer space based on video game space opera\n",
      "Overview - The Hollywood version of the popular video game series \"Wing Commander\". Unlike other video games to feature film transitions, series creator Chris Roberts was heavily involved in the film's creation. This is the story of Christopher Blair and Todd \"Maniac\" Marshall as they arrive at the Tiger Claw and are soon forced to stop a Kilrathi fleet heading towards Earth.\n",
      "\n",
      "Title - The Ice Pirates\n",
      "Genres - Action Science Fiction Comedy\n",
      "Keywords - rebel space war water sci-fi comedy\n",
      "Overview - The time is the distant future, where by far the most precious commodity in the galaxy is water. The last surviving water planet was somehow removed to the unreachable centre of the galaxy at the end of the galactic trade wars. The galaxy is ruled by an evil emperor (John Carradine) presiding over a trade oligarchy that controls all mining and sale of ice from asteroids and comets.\n",
      "\n",
      "Title - Cargo\n",
      "Genres - Thriller Mystery Science Fiction\n",
      "Keywords - space colony space travel simulated reality  spaceship suspense\n",
      "Overview - The story of CARGO takes place on rusty space-freighter KASSANDRA on its way to Station 42. The young medic LAURA is the only one awake on board while the rest of the crew lies frozen in hibernation sleep. In 4 months will Laura's shift be over.\n",
      "\n"
     ]
    }
   ],
   "source": [
    "for i in range(len(recommendations)):\n",
    "    for j in range(4):\n",
    "        print([\"Title\", \"Genres\", \"Keywords\", \"Overview\"][j], \"-\", recommendations.iloc[i, j])\n",
    "    print()"
   ]
  },
  {
   "cell_type": "markdown",
   "metadata": {},
   "source": [
    "# 5 Summary\n",
    "\n",
    "- I compared the usage of TF-IDF and SBERT as embedding method to create vectors for subsequent similarity calculation.\n",
    "- When calculating the cosine similarities, I used a composite rule where the overview (30%), keywords (60%) and genres (10%) of each movie are combined for the overall score.\n",
    "- According to the top-5 matches returned, the SBERT embedding method achieved a better result."
   ]
  },
  {
   "cell_type": "markdown",
   "metadata": {},
   "source": [
    "# 6 Salary Expectation\n",
    "\n",
    "- $30 per hour\n",
    "- 20 hours per week\n",
    "- $2400 per month"
   ]
  },
  {
   "cell_type": "code",
   "execution_count": null,
   "metadata": {},
   "outputs": [],
   "source": []
  }
 ],
 "metadata": {
  "kernelspec": {
   "display_name": "Python 3",
   "language": "python",
   "name": "python3"
  },
  "language_info": {
   "codemirror_mode": {
    "name": "ipython",
    "version": 3
   },
   "file_extension": ".py",
   "mimetype": "text/x-python",
   "name": "python",
   "nbconvert_exporter": "python",
   "pygments_lexer": "ipython3",
   "version": "3.9.12"
  }
 },
 "nbformat": 4,
 "nbformat_minor": 2
}
